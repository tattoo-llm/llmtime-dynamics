{
 "cells": [
  {
   "cell_type": "code",
   "execution_count": 1,
   "id": "e69889aa-d3d8-4e3a-9ed2-e193a77e976d",
   "metadata": {},
   "outputs": [
    {
     "ename": "SyntaxError",
     "evalue": "invalid syntax. Perhaps you forgot a comma? (259237211.py, line 1)",
     "output_type": "error",
     "traceback": [
      "\u001b[0;36m  Cell \u001b[0;32mIn[1], line 1\u001b[0;36m\u001b[0m\n\u001b[0;31m    median =[51    0.000481\u001b[0m\n\u001b[0m             ^\u001b[0m\n\u001b[0;31mSyntaxError\u001b[0m\u001b[0;31m:\u001b[0m invalid syntax. Perhaps you forgot a comma?\n"
     ]
    }
   ],
   "source": [
    "median = [51    0.000481\n",
    "   52    0.000481\n",
    "   53    0.000722\n",
    "   54    0.000962\n",
    "   55    0.000962\n",
    "   56    0.001203\n",
    "   57    0.001443\n",
    "   58    0.001684\n",
    "   59    0.001925\n",
    "   60    0.003368\n",
    "   61    0.003849\n",
    "   62    0.004571\n",
    "   63   -0.001925\n",
    "   64   -0.002406\n",
    "   65   -0.002887\n",
    "   66   -0.003368\n",
    "   67   -0.004090\n",
    "   68   -0.004571\n",
    "   69   -0.005052\n",
    "   70   -0.005533\n",
    "   71   -0.006014\n",
    "   72   -0.006255\n",
    "   73   -0.006977\n",
    "   74   -0.007217\n",
    "   75   -0.008661\n",
    "   76   -0.009382\n",
    "   77   -0.010104\n",
    "   78   -0.011066\n",
    "   79   -0.011547\n",
    "   80   -0.012269\n",
    "   81   -0.013231\n",
    "   82   -0.018524\n",
    "   83   -0.023336\n",
    "   84   -0.027906\n",
    "   85   -0.032477\n",
    "   86   -0.036567\n",
    "   87   -0.040176\n",
    "   88   -0.043303\n",
    "   89   -0.045468\n",
    "   90   -0.047393\n",
    "   91   -0.048596\n",
    "   92   -0.049077\n",
    "   93   -0.011066\n",
    "   94    0.048596\n",
    "   95    0.055091\n",
    "   96    0.017802\n",
    "   97   -0.024538\n",
    "   98   -0.066157\n",
    "   99   -0.106814]"
   ]
  },
  {
   "cell_type": "code",
   "execution_count": null,
   "id": "be0386c9-a1ed-4ca1-b3fd-eabd8e11b53e",
   "metadata": {},
   "outputs": [],
   "source": []
  }
 ],
 "metadata": {
  "kernelspec": {
   "display_name": "Python 3 (ipykernel)",
   "language": "python",
   "name": "python3"
  },
  "language_info": {
   "codemirror_mode": {
    "name": "ipython",
    "version": 3
   },
   "file_extension": ".py",
   "mimetype": "text/x-python",
   "name": "python",
   "nbconvert_exporter": "python",
   "pygments_lexer": "ipython3",
   "version": "3.11.4"
  }
 },
 "nbformat": 4,
 "nbformat_minor": 5
}
